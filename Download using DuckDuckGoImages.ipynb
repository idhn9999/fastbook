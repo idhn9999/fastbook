{
 "cells": [
  {
   "cell_type": "code",
   "execution_count": 1,
   "id": "pleasant-habitat",
   "metadata": {},
   "outputs": [
    {
     "name": "stderr",
     "output_type": "stream",
     "text": [
      "/opt/conda/lib/python3.6/site-packages/fastbook/__init__.py:18: UserWarning: Missing `graphviz` - please run `conda install fastbook`\n",
      "  except ModuleNotFoundError: warn(\"Missing `graphviz` - please run `conda install fastbook`\")\n"
     ]
    }
   ],
   "source": [
    "import fastbook\n",
    "fastbook.setup_book()"
   ]
  },
  {
   "cell_type": "code",
   "execution_count": 2,
   "id": "selected-voltage",
   "metadata": {},
   "outputs": [],
   "source": [
    "from fastbook import *\n",
    "from fastai.vision.widgets import *"
   ]
  },
  {
   "cell_type": "markdown",
   "id": "cloudy-blast",
   "metadata": {},
   "source": [
    "### Example from\n",
    "https://forums.fast.ai/t/duck-duck-go-code-not-working/85287/11"
   ]
  },
  {
   "cell_type": "code",
   "execution_count": 5,
   "id": "liable-wesley",
   "metadata": {},
   "outputs": [
    {
     "name": "stdout",
     "output_type": "stream",
     "text": [
      "Collecting DuckDuckGoImages\n",
      "  Downloading DuckDuckGoImages-2.0.1-py3-none-any.whl (4.0 kB)\n",
      "Requirement already satisfied: joblib>=0.16.0 in /opt/conda/lib/python3.6/site-packages (from DuckDuckGoImages) (0.17.0)\n",
      "Requirement already satisfied: requests>=2.24.0 in /opt/conda/lib/python3.6/site-packages (from DuckDuckGoImages) (2.24.0)\n",
      "Requirement already satisfied: Pillow>=2.2.1 in /opt/conda/lib/python3.6/site-packages (from DuckDuckGoImages) (8.1.2)\n",
      "Requirement already satisfied: idna<3,>=2.5 in /opt/conda/lib/python3.6/site-packages (from requests>=2.24.0->DuckDuckGoImages) (2.9)\n",
      "Requirement already satisfied: chardet<4,>=3.0.2 in /opt/conda/lib/python3.6/site-packages (from requests>=2.24.0->DuckDuckGoImages) (3.0.4)\n",
      "Requirement already satisfied: certifi>=2017.4.17 in /opt/conda/lib/python3.6/site-packages (from requests>=2.24.0->DuckDuckGoImages) (2020.12.5)\n",
      "Requirement already satisfied: urllib3!=1.25.0,!=1.25.1,<1.26,>=1.21.1 in /opt/conda/lib/python3.6/site-packages (from requests>=2.24.0->DuckDuckGoImages) (1.25.10)\n",
      "Installing collected packages: DuckDuckGoImages\n",
      "Successfully installed DuckDuckGoImages-2.0.1\n"
     ]
    }
   ],
   "source": [
    "!pip install DuckDuckGoImages"
   ]
  },
  {
   "cell_type": "code",
   "execution_count": 6,
   "id": "sapphire-fence",
   "metadata": {},
   "outputs": [],
   "source": [
    "import DuckDuckGoImages as ddg\n",
    "bear_types = 'grizzly','black','teddy'\n",
    "path = Path('bears')\n",
    "for o in bear_types:\n",
    "    ims = ddg.download(f'{o} bear', folder=f'./bears/{o}')"
   ]
  },
  {
   "cell_type": "code",
   "execution_count": null,
   "id": "ruled-sleeve",
   "metadata": {},
   "outputs": [],
   "source": []
  }
 ],
 "metadata": {
  "kernelspec": {
   "display_name": "Python 3",
   "language": "python",
   "name": "python3"
  },
  "language_info": {
   "codemirror_mode": {
    "name": "ipython",
    "version": 3
   },
   "file_extension": ".py",
   "mimetype": "text/x-python",
   "name": "python",
   "nbconvert_exporter": "python",
   "pygments_lexer": "ipython3",
   "version": "3.6.10"
  }
 },
 "nbformat": 4,
 "nbformat_minor": 5
}
